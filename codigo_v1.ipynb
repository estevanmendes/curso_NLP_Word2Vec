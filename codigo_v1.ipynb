{
 "metadata": {
  "language_info": {
   "codemirror_mode": {
    "name": "ipython",
    "version": 3
   },
   "file_extension": ".py",
   "mimetype": "text/x-python",
   "name": "python",
   "nbconvert_exporter": "python",
   "pygments_lexer": "ipython3",
   "version": "3.7.9"
  },
  "orig_nbformat": 2,
  "kernelspec": {
   "name": "python379jvsc74a57bd0a507cdf376b69cecd2c89e7a1051eae61b266665cfe46f78fefb4235d6785f29",
   "display_name": "Python 3.7.9 64-bit ('myenv': conda)"
  },
  "metadata": {
   "interpreter": {
    "hash": "a4b152d9392e0684e6727fd8911c823076c8e6357af05f485839479b1f06e95c"
   }
  }
 },
 "nbformat": 4,
 "nbformat_minor": 2,
 "cells": [
  {
   "cell_type": "code",
   "execution_count": 1,
   "metadata": {},
   "outputs": [],
   "source": [
    "import pandas as pd"
   ]
  },
  {
   "cell_type": "code",
   "execution_count": 2,
   "metadata": {},
   "outputs": [],
   "source": [
    "artigo_treino=pd.read_csv('treino.csv')\n",
    "artigo_teste=pd.read_csv('teste.csv')"
   ]
  },
  {
   "cell_type": "code",
   "execution_count": 3,
   "metadata": {},
   "outputs": [
    {
     "output_type": "execute_result",
     "data": {
      "text/plain": [
       "                                                   title  \\\n",
       "21027         Hoje na TV: Campeonato Italiano, NBA e NBB   \n",
       "76732  Com versos densos, Eucanaã perturba e diverte ...   \n",
       "57733                                   À porta da boate   \n",
       "4063   Credit Suisse tem perda trimestral e vê mercad...   \n",
       "79828  Inter perde, e Corinthians vira líder no crité...   \n",
       "\n",
       "                                                    text        date  \\\n",
       "21027  7h30 - Masters 1.000 Monte Carlo Tênis, SporTV...  2016-11-04   \n",
       "76732  Sétimo livro de Eucanaã Ferraz, \"Escuta\" é cer...  2015-02-07   \n",
       "57733  RIO DE JANEIRO - Em abril último, ao passar po...  2017-07-29   \n",
       "4063   O Credit Suisse previu nesta terça-feira (10) ...  2016-10-05   \n",
       "79828  O Corinthians é o novo líder do Campeonato Bra...  2016-05-06   \n",
       "\n",
       "        category subcategory  \\\n",
       "21027    esporte         NaN   \n",
       "76732  ilustrada         NaN   \n",
       "57733    colunas   ruycastro   \n",
       "4063     mercado         NaN   \n",
       "79828    esporte         NaN   \n",
       "\n",
       "                                                    link  \n",
       "21027  http://www1.folha.uol.com.br/esporte/2016/04/1...  \n",
       "76732  http://www1.folha.uol.com.br/ilustrada/2015/07...  \n",
       "57733  http://www1.folha.uol.com.br/colunas/ruycastro...  \n",
       "4063   http://www1.folha.uol.com.br/mercado/2016/05/1...  \n",
       "79828  http://www1.folha.uol.com.br/esporte/2016/06/1...  "
      ],
      "text/html": "<div>\n<style scoped>\n    .dataframe tbody tr th:only-of-type {\n        vertical-align: middle;\n    }\n\n    .dataframe tbody tr th {\n        vertical-align: top;\n    }\n\n    .dataframe thead th {\n        text-align: right;\n    }\n</style>\n<table border=\"1\" class=\"dataframe\">\n  <thead>\n    <tr style=\"text-align: right;\">\n      <th></th>\n      <th>title</th>\n      <th>text</th>\n      <th>date</th>\n      <th>category</th>\n      <th>subcategory</th>\n      <th>link</th>\n    </tr>\n  </thead>\n  <tbody>\n    <tr>\n      <th>21027</th>\n      <td>Hoje na TV: Campeonato Italiano, NBA e NBB</td>\n      <td>7h30 - Masters 1.000 Monte Carlo Tênis, SporTV...</td>\n      <td>2016-11-04</td>\n      <td>esporte</td>\n      <td>NaN</td>\n      <td>http://www1.folha.uol.com.br/esporte/2016/04/1...</td>\n    </tr>\n    <tr>\n      <th>76732</th>\n      <td>Com versos densos, Eucanaã perturba e diverte ...</td>\n      <td>Sétimo livro de Eucanaã Ferraz, \"Escuta\" é cer...</td>\n      <td>2015-02-07</td>\n      <td>ilustrada</td>\n      <td>NaN</td>\n      <td>http://www1.folha.uol.com.br/ilustrada/2015/07...</td>\n    </tr>\n    <tr>\n      <th>57733</th>\n      <td>À porta da boate</td>\n      <td>RIO DE JANEIRO - Em abril último, ao passar po...</td>\n      <td>2017-07-29</td>\n      <td>colunas</td>\n      <td>ruycastro</td>\n      <td>http://www1.folha.uol.com.br/colunas/ruycastro...</td>\n    </tr>\n    <tr>\n      <th>4063</th>\n      <td>Credit Suisse tem perda trimestral e vê mercad...</td>\n      <td>O Credit Suisse previu nesta terça-feira (10) ...</td>\n      <td>2016-10-05</td>\n      <td>mercado</td>\n      <td>NaN</td>\n      <td>http://www1.folha.uol.com.br/mercado/2016/05/1...</td>\n    </tr>\n    <tr>\n      <th>79828</th>\n      <td>Inter perde, e Corinthians vira líder no crité...</td>\n      <td>O Corinthians é o novo líder do Campeonato Bra...</td>\n      <td>2016-05-06</td>\n      <td>esporte</td>\n      <td>NaN</td>\n      <td>http://www1.folha.uol.com.br/esporte/2016/06/1...</td>\n    </tr>\n  </tbody>\n</table>\n</div>"
     },
     "metadata": {},
     "execution_count": 3
    }
   ],
   "source": [
    "artigo_treino.sample(5)"
   ]
  },
  {
   "cell_type": "code",
   "execution_count": 4,
   "metadata": {},
   "outputs": [
    {
     "output_type": "execute_result",
     "data": {
      "text/plain": [
       "                                                   title  \\\n",
       "18190  Minha dor também era secreta, diz mulher que s...   \n",
       "4903                        Universidade tal como balada   \n",
       "11317  Seleção terá três mudanças para jogo na Bolívi...   \n",
       "6847   Em parceria com a IBM, Apple lança iPad para i...   \n",
       "11381  Cubo, espaço de start-ups mantido pelo Itaú, v...   \n",
       "\n",
       "                                                    text        date category  \\\n",
       "18190  RESUMO H., 30, foi submetida à mutilação genit...  2015-08-03    mundo   \n",
       "4903   Quando o aparelho celular –que permitia enviar...  2015-08-09  colunas   \n",
       "11317  O zagueiro Thiago Silva, o lateral esquerdo Al...  2017-04-10  esporte   \n",
       "6847   Apple e IBM formaram parceria a fim de desenvo...  2015-01-05  mercado   \n",
       "11381  O Cubo, espaço para start-ups mantido pelo Ita...  2017-08-23  mercado   \n",
       "\n",
       "       subcategory                                               link  \n",
       "18190          NaN  http://www1.folha.uol.com.br/mundo/2015/03/159...  \n",
       "4903   roselysayao  http://www1.folha.uol.com.br/colunas/roselysay...  \n",
       "11317          NaN  http://www1.folha.uol.com.br/esporte/2017/10/1...  \n",
       "6847           NaN  http://www1.folha.uol.com.br/mercado/2015/05/1...  \n",
       "11381          NaN  http://www1.folha.uol.com.br/mercado/2017/08/1...  "
      ],
      "text/html": "<div>\n<style scoped>\n    .dataframe tbody tr th:only-of-type {\n        vertical-align: middle;\n    }\n\n    .dataframe tbody tr th {\n        vertical-align: top;\n    }\n\n    .dataframe thead th {\n        text-align: right;\n    }\n</style>\n<table border=\"1\" class=\"dataframe\">\n  <thead>\n    <tr style=\"text-align: right;\">\n      <th></th>\n      <th>title</th>\n      <th>text</th>\n      <th>date</th>\n      <th>category</th>\n      <th>subcategory</th>\n      <th>link</th>\n    </tr>\n  </thead>\n  <tbody>\n    <tr>\n      <th>18190</th>\n      <td>Minha dor também era secreta, diz mulher que s...</td>\n      <td>RESUMO H., 30, foi submetida à mutilação genit...</td>\n      <td>2015-08-03</td>\n      <td>mundo</td>\n      <td>NaN</td>\n      <td>http://www1.folha.uol.com.br/mundo/2015/03/159...</td>\n    </tr>\n    <tr>\n      <th>4903</th>\n      <td>Universidade tal como balada</td>\n      <td>Quando o aparelho celular –que permitia enviar...</td>\n      <td>2015-08-09</td>\n      <td>colunas</td>\n      <td>roselysayao</td>\n      <td>http://www1.folha.uol.com.br/colunas/roselysay...</td>\n    </tr>\n    <tr>\n      <th>11317</th>\n      <td>Seleção terá três mudanças para jogo na Bolívi...</td>\n      <td>O zagueiro Thiago Silva, o lateral esquerdo Al...</td>\n      <td>2017-04-10</td>\n      <td>esporte</td>\n      <td>NaN</td>\n      <td>http://www1.folha.uol.com.br/esporte/2017/10/1...</td>\n    </tr>\n    <tr>\n      <th>6847</th>\n      <td>Em parceria com a IBM, Apple lança iPad para i...</td>\n      <td>Apple e IBM formaram parceria a fim de desenvo...</td>\n      <td>2015-01-05</td>\n      <td>mercado</td>\n      <td>NaN</td>\n      <td>http://www1.folha.uol.com.br/mercado/2015/05/1...</td>\n    </tr>\n    <tr>\n      <th>11381</th>\n      <td>Cubo, espaço de start-ups mantido pelo Itaú, v...</td>\n      <td>O Cubo, espaço para start-ups mantido pelo Ita...</td>\n      <td>2017-08-23</td>\n      <td>mercado</td>\n      <td>NaN</td>\n      <td>http://www1.folha.uol.com.br/mercado/2017/08/1...</td>\n    </tr>\n  </tbody>\n</table>\n</div>"
     },
     "metadata": {},
     "execution_count": 4
    }
   ],
   "source": [
    "artigo_teste.sample(5)"
   ]
  },
  {
   "cell_type": "code",
   "execution_count": 5,
   "metadata": {},
   "outputs": [
    {
     "output_type": "execute_result",
     "data": {
      "text/plain": [
       "title          Barcelona vence de virada; Atlético de Madri b...\n",
       "text           Depois de golear o Celtic por 7 a 0 em sua est...\n",
       "date                                                  2016-09-28\n",
       "category                                                 esporte\n",
       "subcategory                                                  NaN\n",
       "link           http://www1.folha.uol.com.br/esporte/2016/09/1...\n",
       "Name: 5, dtype: object"
      ]
     },
     "metadata": {},
     "execution_count": 5
    }
   ],
   "source": [
    "artigo_treino.iloc[5]"
   ]
  },
  {
   "source": [
    "### One hot enconding - todas as palavras são analisadas individualmente"
   ],
   "cell_type": "markdown",
   "metadata": {}
  },
  {
   "cell_type": "code",
   "execution_count": 6,
   "metadata": {},
   "outputs": [],
   "source": [
    "from sklearn.feature_extraction.text import CountVectorizer"
   ]
  },
  {
   "cell_type": "code",
   "execution_count": 7,
   "metadata": {},
   "outputs": [],
   "source": [
    "texto=['ola estevan' ,'vamos aprender nlp?','cachorro eh chato']"
   ]
  },
  {
   "cell_type": "code",
   "execution_count": 8,
   "metadata": {},
   "outputs": [
    {
     "output_type": "execute_result",
     "data": {
      "text/plain": [
       "CountVectorizer()"
      ]
     },
     "metadata": {},
     "execution_count": 8
    }
   ],
   "source": [
    "vetorizador=CountVectorizer()\n",
    "vetorizador.fit(texto)"
   ]
  },
  {
   "cell_type": "code",
   "execution_count": 9,
   "metadata": {},
   "outputs": [
    {
     "output_type": "execute_result",
     "data": {
      "text/plain": [
       "{'ola': 6,\n",
       " 'estevan': 4,\n",
       " 'vamos': 7,\n",
       " 'aprender': 0,\n",
       " 'nlp': 5,\n",
       " 'cachorro': 1,\n",
       " 'eh': 3,\n",
       " 'chato': 2}"
      ]
     },
     "metadata": {},
     "execution_count": 9
    }
   ],
   "source": [
    "vetorizador.vocabulary_"
   ]
  },
  {
   "cell_type": "code",
   "execution_count": 10,
   "metadata": {},
   "outputs": [
    {
     "output_type": "execute_result",
     "data": {
      "text/plain": [
       "array([[0, 1, 0, 0, 0, 0, 0, 1]], dtype=int64)"
      ]
     },
     "metadata": {},
     "execution_count": 10
    }
   ],
   "source": [
    "vetorizador.transform(['vamos cachorro']).toarray()"
   ]
  },
  {
   "source": [
    "### word2vec - CBOW - Skip Gram\n",
    "### "
   ],
   "cell_type": "markdown",
   "metadata": {}
  },
  {
   "source": [
    "### Word2vec - nilc"
   ],
   "cell_type": "markdown",
   "metadata": {}
  },
  {
   "cell_type": "code",
   "execution_count": 11,
   "metadata": {},
   "outputs": [
    {
     "output_type": "stream",
     "name": "stderr",
     "text": [
      "C:\\Users\\Membro\\anaconda3\\envs\\myenv\\lib\\site-packages\\gensim\\similarities\\__init__.py:15: UserWarning: The gensim.similarities.levenshtein submodule is disabled, because the optional Levenshtein package <https://pypi.org/project/python-Levenshtein/> is unavailable. Install Levenhstein (e.g. `pip install python-Levenshtein`) to suppress this warning.\n  warnings.warn(msg)\n"
     ]
    }
   ],
   "source": [
    "from gensim.models import KeyedVectors"
   ]
  },
  {
   "cell_type": "code",
   "execution_count": 12,
   "metadata": {},
   "outputs": [],
   "source": [
    "modelo=KeyedVectors.load_word2vec_format('cbow_s300\\cbow_s300.txt')"
   ]
  },
  {
   "cell_type": "code",
   "execution_count": 20,
   "metadata": {},
   "outputs": [
    {
     "output_type": "execute_result",
     "data": {
      "text/plain": [
       "[('pistola', 0.6599469184875488),\n",
       " ('espingarda', 0.6042895317077637),\n",
       " ('faca', 0.5830086469650269),\n",
       " ('metralhadora', 0.5771223306655884),\n",
       " ('escopeta', 0.573604166507721),\n",
       " ('garrucha', 0.5506771206855774),\n",
       " ('cartucheira', 0.5351985096931458),\n",
       " ('espada', 0.5264790058135986),\n",
       " ('luva', 0.5258674621582031),\n",
       " ('chaleira', 0.5223443508148193)]"
      ]
     },
     "metadata": {},
     "execution_count": 20
    }
   ],
   "source": [
    "modelo.most_similar('arma')"
   ]
  },
  {
   "cell_type": "code",
   "execution_count": 29,
   "metadata": {},
   "outputs": [
    {
     "output_type": "execute_result",
     "data": {
      "text/plain": [
       "[('planeta-anão', 0.48668697476387024),\n",
       " ('cometa', 0.47293946146965027),\n",
       " ('lua', 0.4591890871524811),\n",
       " ('super-terra', 0.4557877480983734),\n",
       " ('orbitando', 0.4476796090602875),\n",
       " ('saturno', 0.4451294243335724),\n",
       " ('plutão', 0.4446432292461395),\n",
       " ('remanente', 0.44256553053855896),\n",
       " ('kepler-0', 0.4387412667274475),\n",
       " ('marte', 0.43866533041000366)]"
      ]
     },
     "metadata": {},
     "execution_count": 29
    }
   ],
   "source": [
    "modelo.most_similar(positive=['estrela','planeta'])"
   ]
  },
  {
   "cell_type": "code",
   "execution_count": 33,
   "metadata": {},
   "outputs": [
    {
     "output_type": "execute_result",
     "data": {
      "text/plain": [
       "[('professora', 0.6192208528518677),\n",
       " ('aluna', 0.5449554324150085),\n",
       " ('esposa', 0.4978231191635132),\n",
       " ('ex-aluna', 0.4884248375892639),\n",
       " ('namorada', 0.4737858772277832),\n",
       " ('enfermeira', 0.4728144407272339),\n",
       " ('filha', 0.467373788356781),\n",
       " ('irmã', 0.45845916867256165),\n",
       " ('ex-namorada', 0.45824769139289856),\n",
       " ('ex-professora', 0.45104706287384033)]"
      ]
     },
     "metadata": {},
     "execution_count": 33
    }
   ],
   "source": [
    "modelo.most_similar(positive=['professor','mulher'],negative=['homem'])"
   ]
  },
  {
   "source": [
    "### Vetorização texto"
   ],
   "cell_type": "markdown",
   "metadata": {}
  },
  {
   "cell_type": "code",
   "execution_count": 34,
   "metadata": {},
   "outputs": [],
   "source": []
  },
  {
   "cell_type": "code",
   "execution_count": 39,
   "metadata": {},
   "outputs": [],
   "source": [
    "import nltk\n",
    "import string\n",
    "def tokenizador(texto):\n",
    "    texto=texto.lower()\n",
    "    lista_alfanumerico=[]\n",
    "    tokens_valido=nltk.word_tokenize(texto)### função interesante\n",
    "    for token_valido in tokens_valido:\n",
    "        if token_valido in string.punctuation: continue\n",
    "        lista_alfanumerico.append(token_valido) \n",
    "\n",
    "    return lista_alfanumerico\n",
    "\n"
   ]
  },
  {
   "cell_type": "code",
   "execution_count": 41,
   "metadata": {},
   "outputs": [
    {
     "output_type": "execute_result",
     "data": {
      "text/plain": [
       "['joao', 'alberto', 'matou', 'um', 'alce']"
      ]
     },
     "metadata": {},
     "execution_count": 41
    }
   ],
   "source": [
    "tokenizador('JOAO, alberto matou um alce')"
   ]
  },
  {
   "cell_type": "code",
   "execution_count": 95,
   "metadata": {},
   "outputs": [],
   "source": [
    "import numpy as np\n",
    "def soma_vetores(palavras_numeros):\n",
    "    vetor_resultante=np.zeros(300)\n",
    "    for pn in palavras_numeros:\n",
    "        try:\n",
    "            vetor_resultante+=modelo.get_vector(pn)\n",
    "        except KeyError:\n",
    "            if pn.isnumeric():\n",
    "                pn='0'*len(pn)\n",
    "                vetor_resultante+=modelo.get_vector(pn)\n",
    "            else:\n",
    "                vetor_resultante+=modelo.get_vector('unknown')\n",
    "\n",
    "    return vetor_resultante"
   ]
  },
  {
   "cell_type": "code",
   "execution_count": 96,
   "metadata": {},
   "outputs": [
    {
     "output_type": "execute_result",
     "data": {
      "text/plain": [
       "(300,)"
      ]
     },
     "metadata": {},
     "execution_count": 96
    }
   ],
   "source": [
    "palavras_numeros=tokenizador('123 dasda')\n",
    "vetor_texto=soma_vetores(palavras_numeros)\n",
    "vetor_texto.shape"
   ]
  },
  {
   "cell_type": "code",
   "execution_count": 56,
   "metadata": {},
   "outputs": [
    {
     "output_type": "execute_result",
     "data": {
      "text/plain": [
       "(90000, 6)"
      ]
     },
     "metadata": {},
     "execution_count": 56
    }
   ],
   "source": [
    "artigo_treino.shape"
   ]
  },
  {
   "cell_type": "code",
   "execution_count": 75,
   "metadata": {},
   "outputs": [],
   "source": [
    "def matriz_vetor(textos):\n",
    "    x=len(textos)\n",
    "    matriz=np.ones((x,300))\n",
    "    for i in range(x):\n",
    "        palavras_numeros=tokenizador(textos.iloc[i])\n",
    "        vetor_texto=soma_vetores(palavras_numeros)\n",
    "        matriz[i,:]=vetor_texto\n",
    "\n",
    "    return matriz"
   ]
  },
  {
   "cell_type": "code",
   "execution_count": 76,
   "metadata": {},
   "outputs": [],
   "source": [
    "matriz_treinos=matriz_vetor(artigo_treino.title)\n",
    "matriz_teste=matriz_vetor(artigo_teste.title)"
   ]
  },
  {
   "cell_type": "code",
   "execution_count": 77,
   "metadata": {},
   "outputs": [],
   "source": [
    "from sklearn.linear_model import LogisticRegression"
   ]
  },
  {
   "cell_type": "code",
   "execution_count": 80,
   "metadata": {},
   "outputs": [
    {
     "output_type": "execute_result",
     "data": {
      "text/plain": [
       "LogisticRegression(max_iter=200)"
      ]
     },
     "metadata": {},
     "execution_count": 80
    }
   ],
   "source": [
    "LR=LogisticRegression(max_iter=200)\n",
    "LR.fit(matriz_treinos,artigo_treino.category)"
   ]
  },
  {
   "cell_type": "code",
   "execution_count": 83,
   "metadata": {},
   "outputs": [
    {
     "output_type": "execute_result",
     "data": {
      "text/plain": [
       "0.7961780334422074"
      ]
     },
     "metadata": {},
     "execution_count": 83
    }
   ],
   "source": [
    "LR.score(matriz_teste,artigo_teste.category)"
   ]
  },
  {
   "cell_type": "code",
   "execution_count": 84,
   "metadata": {},
   "outputs": [],
   "source": [
    "from sklearn.metrics import classification_report"
   ]
  },
  {
   "cell_type": "code",
   "execution_count": 88,
   "metadata": {},
   "outputs": [
    {
     "output_type": "stream",
     "name": "stdout",
     "text": [
      "              precision    recall  f1-score   support\n\n     colunas       0.86      0.71      0.78      6103\n   cotidiano       0.61      0.79      0.69      1698\n     esporte       0.92      0.88      0.90      4663\n   ilustrada       0.13      0.89      0.23       131\n     mercado       0.84      0.79      0.82      5867\n       mundo       0.74      0.86      0.79      2051\n\n    accuracy                           0.80     20513\n   macro avg       0.68      0.82      0.70     20513\nweighted avg       0.83      0.80      0.81     20513\n\n"
     ]
    }
   ],
   "source": [
    "label_prevista=LR.predict(matriz_teste)\n",
    "CR=classification_report(artigo_teste.category,label_prevista)\n",
    "print(CR)"
   ]
  },
  {
   "cell_type": "code",
   "execution_count": 89,
   "metadata": {},
   "outputs": [],
   "source": [
    "from sklearn.dummy import DummyClassifier"
   ]
  },
  {
   "cell_type": "code",
   "execution_count": 92,
   "metadata": {},
   "outputs": [
    {
     "output_type": "stream",
     "name": "stderr",
     "text": [
      "C:\\Users\\Membro\\anaconda3\\envs\\myenv\\lib\\site-packages\\sklearn\\metrics\\_classification.py:1245: UndefinedMetricWarning: Precision and F-score are ill-defined and being set to 0.0 in labels with no predicted samples. Use `zero_division` parameter to control this behavior.\n",
      "  _warn_prf(average, modifier, msg_start, len(result))\n",
      "C:\\Users\\Membro\\anaconda3\\envs\\myenv\\lib\\site-packages\\sklearn\\metrics\\_classification.py:1245: UndefinedMetricWarning: Precision and F-score are ill-defined and being set to 0.0 in labels with no predicted samples. Use `zero_division` parameter to control this behavior.\n",
      "  _warn_prf(average, modifier, msg_start, len(result))\n",
      "              precision    recall  f1-score   support\n",
      "\n",
      "     colunas       0.30      1.00      0.46      6103\n",
      "   cotidiano       0.00      0.00      0.00      1698\n",
      "     esporte       0.00      0.00      0.00      4663\n",
      "   ilustrada       0.00      0.00      0.00       131\n",
      "     mercado       0.00      0.00      0.00      5867\n",
      "       mundo       0.00      0.00      0.00      2051\n",
      "\n",
      "    accuracy                           0.30     20513\n",
      "   macro avg       0.05      0.17      0.08     20513\n",
      "weighted avg       0.09      0.30      0.14     20513\n",
      "\n",
      "C:\\Users\\Membro\\anaconda3\\envs\\myenv\\lib\\site-packages\\sklearn\\metrics\\_classification.py:1245: UndefinedMetricWarning: Precision and F-score are ill-defined and being set to 0.0 in labels with no predicted samples. Use `zero_division` parameter to control this behavior.\n",
      "  _warn_prf(average, modifier, msg_start, len(result))\n"
     ]
    }
   ],
   "source": [
    "DC=DummyClassifier()\n",
    "DC.fit(matriz_treinos,artigo_treino.category)\n",
    "label_prevista_dc=DC.predict(matriz_teste)\n",
    "CR_dummy=classification_report(artigo_teste.category,label_prevista_dc)\n",
    "print(CR_dummy)"
   ]
  },
  {
   "cell_type": "code",
   "execution_count": 94,
   "metadata": {},
   "outputs": [],
   "source": [
    "modelo_sg=KeyedVectors.load_word2vec_format('skip_s300.txt')"
   ]
  },
  {
   "cell_type": "code",
   "execution_count": 97,
   "metadata": {},
   "outputs": [],
   "source": [
    "def soma_vetores_sg(palavras_numeros):\n",
    "    vetor_resultante=np.zeros(300)\n",
    "    for pn in palavras_numeros:\n",
    "        try:\n",
    "            vetor_resultante+=modelo_sg.get_vector(pn)\n",
    "        except KeyError:\n",
    "            if pn.isnumeric():\n",
    "                pn='0'*len(pn)\n",
    "                vetor_resultante+=modelo_sg.get_vector(pn)\n",
    "            else:\n",
    "                vetor_resultante+=modelo_sg.get_vector('unknown')\n",
    "\n",
    "    return vetor_resultante"
   ]
  },
  {
   "cell_type": "code",
   "execution_count": 98,
   "metadata": {},
   "outputs": [],
   "source": [
    "def matriz_vetor_sg(textos):\n",
    "    x=len(textos)\n",
    "    matriz=np.ones((x,300))\n",
    "    for i in range(x):\n",
    "        palavras_numeros=tokenizador(textos.iloc[i])\n",
    "        vetor_texto=soma_vetores_sg(palavras_numeros)\n",
    "        matriz[i,:]=vetor_texto\n",
    "\n",
    "    return matriz"
   ]
  },
  {
   "cell_type": "code",
   "execution_count": 99,
   "metadata": {},
   "outputs": [],
   "source": [
    "matriz_treinos_sg=matriz_vetor_sg(artigo_treino.title)\n",
    "matriz_teste_sg=matriz_vetor_sg(artigo_teste.title)"
   ]
  },
  {
   "cell_type": "code",
   "execution_count": 106,
   "metadata": {},
   "outputs": [
    {
     "output_type": "execute_result",
     "data": {
      "text/plain": [
       "0.806805440452396"
      ]
     },
     "metadata": {},
     "execution_count": 106
    }
   ],
   "source": [
    "LR_sg=LogisticRegression(max_iter=1000)\n",
    "LR_sg.fit(matriz_treinos_sg,artigo_treino.category)\n",
    "label_prevista_sg=LR_sg.predict(matriz_teste_sg)\n",
    "LR_sg.score(matriz_teste_sg,artigo_teste.category)"
   ]
  },
  {
   "cell_type": "code",
   "execution_count": 108,
   "metadata": {},
   "outputs": [
    {
     "output_type": "stream",
     "name": "stdout",
     "text": [
      "              precision    recall  f1-score   support\n\n     colunas       0.86      0.72      0.78      6103\n   cotidiano       0.63      0.81      0.70      1698\n     esporte       0.93      0.89      0.91      4663\n   ilustrada       0.15      0.91      0.26       131\n     mercado       0.84      0.81      0.83      5867\n       mundo       0.76      0.86      0.80      2051\n\n    accuracy                           0.81     20513\n   macro avg       0.69      0.83      0.71     20513\nweighted avg       0.84      0.81      0.82     20513\n\n"
     ]
    }
   ],
   "source": [
    "CR_sg=classification_report(artigo_teste.category,label_prevista_sg)\n",
    "print(CR_sg)"
   ]
  },
  {
   "cell_type": "code",
   "execution_count": 109,
   "metadata": {},
   "outputs": [
    {
     "output_type": "stream",
     "name": "stdout",
     "text": [
      "              precision    recall  f1-score   support\n\n     colunas       0.86      0.71      0.78      6103\n   cotidiano       0.61      0.79      0.69      1698\n     esporte       0.92      0.88      0.90      4663\n   ilustrada       0.13      0.89      0.23       131\n     mercado       0.84      0.79      0.82      5867\n       mundo       0.74      0.86      0.79      2051\n\n    accuracy                           0.80     20513\n   macro avg       0.68      0.82      0.70     20513\nweighted avg       0.83      0.80      0.81     20513\n\n"
     ]
    }
   ],
   "source": [
    "print(CR)"
   ]
  },
  {
   "cell_type": "code",
   "execution_count": 112,
   "metadata": {},
   "outputs": [
    {
     "output_type": "execute_result",
     "data": {
      "text/plain": [
       "[('espingarda', 0.7040669918060303),\n",
       " ('pistola', 0.7034822702407837),\n",
       " ('munição', 0.6674143671989441),\n",
       " ('metralhadora', 0.6494959592819214),\n",
       " ('faca', 0.6240027546882629),\n",
       " ('garrucha', 0.6212342977523804),\n",
       " ('fuzil', 0.6112027764320374),\n",
       " ('escopeta', 0.6028547286987305),\n",
       " ('semiautomática', 0.6013616323471069),\n",
       " ('submetralhadora', 0.5962063670158386)]"
      ]
     },
     "metadata": {},
     "execution_count": 112
    }
   ],
   "source": [
    "modelo_sg.most_similar('arma')"
   ]
  },
  {
   "cell_type": "code",
   "execution_count": 113,
   "metadata": {},
   "outputs": [
    {
     "output_type": "execute_result",
     "data": {
      "text/plain": [
       "[('pistola', 0.6599469184875488),\n",
       " ('espingarda', 0.6042895317077637),\n",
       " ('faca', 0.5830086469650269),\n",
       " ('metralhadora', 0.5771223306655884),\n",
       " ('escopeta', 0.573604166507721),\n",
       " ('garrucha', 0.5506771206855774),\n",
       " ('cartucheira', 0.5351985096931458),\n",
       " ('espada', 0.5264790058135986),\n",
       " ('luva', 0.5258674621582031),\n",
       " ('chaleira', 0.5223443508148193)]"
      ]
     },
     "metadata": {},
     "execution_count": 113
    }
   ],
   "source": [
    "modelo.most_similar('arma')"
   ]
  },
  {
   "cell_type": "code",
   "execution_count": null,
   "metadata": {},
   "outputs": [],
   "source": []
  }
 ]
}